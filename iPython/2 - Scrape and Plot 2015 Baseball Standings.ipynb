{
 "cells": [
  {
   "cell_type": "code",
   "execution_count": 23,
   "metadata": {
    "collapsed": false
   },
   "outputs": [],
   "source": [
    "import requests\n",
    "from bs4 import BeautifulSoup\n",
    "import pandas as pd\n",
    "from datetime import timedelta\n",
    "from dateutil import parser"
   ]
  },
  {
   "cell_type": "code",
   "execution_count": 2,
   "metadata": {
    "collapsed": true
   },
   "outputs": [],
   "source": [
    "def daterange(start_date, end_date):\n",
    "    if start_date == end_date:\n",
    "        yield start_date\n",
    "    else:\n",
    "        for n in range(int ((end_date - start_date).days)):\n",
    "            yield start_date + timedelta(n)"
   ]
  },
  {
   "cell_type": "code",
   "execution_count": 3,
   "metadata": {
    "collapsed": true
   },
   "outputs": [],
   "source": [
    "# data format:\n",
    "# {year|month|day|league|division|Tm|W|L|W-L%|GB|RS|RA|pythW-L%}"
   ]
  },
  {
   "cell_type": "code",
   "execution_count": 25,
   "metadata": {
    "collapsed": false
   },
   "outputs": [
    {
     "name": "stdout",
     "output_type": "stream",
     "text": [
      "2015\n",
      "6\n",
      "1\n",
      "2015\n",
      "6\n",
      "2\n",
      "2015\n",
      "6\n",
      "3\n",
      "2015\n",
      "6\n",
      "4\n"
     ]
    }
   ],
   "source": [
    "start_date = parser.parse('2015-06-01')\n",
    "end_date = parser.parse('2015-06-05')\n",
    "\n",
    "for single_date in daterange(start_date, end_date):\n",
    "    print single_date.year\n",
    "    print single_date.month\n",
    "    print single_date.day"
   ]
  },
  {
   "cell_type": "code",
   "execution_count": 5,
   "metadata": {
    "collapsed": true
   },
   "outputs": [],
   "source": [
    "url = 'http://www.baseball-reference.com/games/standings.cgi'"
   ]
  },
  {
   "cell_type": "code",
   "execution_count": 6,
   "metadata": {
    "collapsed": true
   },
   "outputs": [],
   "source": [
    "payload = {}\n",
    "payload['year'] = 2015\n",
    "payload['month'] = 8\n",
    "payload['day'] = 31\n",
    "payload['submit'] = 'Submit+Date'"
   ]
  },
  {
   "cell_type": "code",
   "execution_count": 7,
   "metadata": {
    "collapsed": true
   },
   "outputs": [],
   "source": [
    "r = requests.get(url, params=payload)"
   ]
  },
  {
   "cell_type": "code",
   "execution_count": 8,
   "metadata": {
    "collapsed": true
   },
   "outputs": [],
   "source": [
    "soup = BeautifulSoup(r.content)"
   ]
  },
  {
   "cell_type": "code",
   "execution_count": 15,
   "metadata": {
    "collapsed": false
   },
   "outputs": [],
   "source": [
    "header = []\n",
    "master = soup('table')[0].findAll('div', {'class': 'table_heading'})\n",
    "for element in master:\n",
    "    if 'Division' in element.string:\n",
    "        tmp = element.string.rstrip(' Division')\n",
    "        if tmp not in header:\n",
    "            header.append(tmp)"
   ]
  },
  {
   "cell_type": "code",
   "execution_count": 16,
   "metadata": {
    "collapsed": false
   },
   "outputs": [
    {
     "data": {
      "text/plain": [
       "[u'AL East', u'AL Central', u'AL West', u'NL East', u'NL Central', u'NL West']"
      ]
     },
     "execution_count": 16,
     "metadata": {},
     "output_type": "execute_result"
    }
   ],
   "source": [
    "header"
   ]
  },
  {
   "cell_type": "code",
   "execution_count": 20,
   "metadata": {
    "collapsed": false
   },
   "outputs": [],
   "source": [
    "key = []\n",
    "for element in soup('table')[1].findAll('th'):\n",
    "    key.append(element.string)"
   ]
  },
  {
   "cell_type": "code",
   "execution_count": 21,
   "metadata": {
    "collapsed": false
   },
   "outputs": [
    {
     "data": {
      "text/plain": [
       "[u'Tm', u'W', u'L', u'W-L%', u'GB', u'RS', u'RA', u'pythW-L%']"
      ]
     },
     "execution_count": 21,
     "metadata": {},
     "output_type": "execute_result"
    }
   ],
   "source": [
    "key"
   ]
  },
  {
   "cell_type": "code",
   "execution_count": null,
   "metadata": {
    "collapsed": false
   },
   "outputs": [],
   "source": [
    "from pprint import pprint as pp\n",
    "\n",
    "dfMaster = pd.DataFrame(masterStandings)\n",
    "dfMaster['date'] = pd.to_datetime(dfMaster.year.map(str) + '-' + dfMaster.month.map(str) + '-' + dfMaster.day.map(str))\n",
    "dfMaster.set_index(['division', 'date'], inplace=True)\n",
    "dfMaster.drop(['day', 'month', 'year'], axis=1, inplace=True)\n",
    "dfNLC = dfMaster.ix['NL Central']"
   ]
  },
  {
   "cell_type": "code",
   "execution_count": null,
   "metadata": {
    "collapsed": false
   },
   "outputs": [],
   "source": [
    "dfNLC"
   ]
  },
  {
   "cell_type": "code",
   "execution_count": null,
   "metadata": {
    "collapsed": true
   },
   "outputs": [],
   "source": []
  }
 ],
 "metadata": {
  "kernelspec": {
   "display_name": "Python 2",
   "language": "python",
   "name": "python2"
  },
  "language_info": {
   "codemirror_mode": {
    "name": "ipython",
    "version": 2
   },
   "file_extension": ".py",
   "mimetype": "text/x-python",
   "name": "python",
   "nbconvert_exporter": "python",
   "pygments_lexer": "ipython2",
   "version": "2.7.10"
  }
 },
 "nbformat": 4,
 "nbformat_minor": 0
}
