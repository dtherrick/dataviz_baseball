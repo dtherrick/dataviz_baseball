{
 "cells": [
  {
   "cell_type": "code",
   "execution_count": 1,
   "metadata": {
    "collapsed": true
   },
   "outputs": [],
   "source": [
    "import requests\n",
    "from bs4 import BeautifulSoup\n",
    "import pandas as pd"
   ]
  },
  {
   "cell_type": "code",
   "execution_count": 2,
   "metadata": {
    "collapsed": true
   },
   "outputs": [],
   "source": [
    "url = 'http://www.baseball-reference.com/games/standings.cgi'"
   ]
  },
  {
   "cell_type": "code",
   "execution_count": 3,
   "metadata": {
    "collapsed": true
   },
   "outputs": [],
   "source": [
    "payload = {}\n",
    "payload['year'] = 2015\n",
    "payload['month'] = 8\n",
    "payload['day'] = 31\n",
    "payload['submit'] = 'Submit+Date'"
   ]
  },
  {
   "cell_type": "code",
   "execution_count": 4,
   "metadata": {
    "collapsed": true
   },
   "outputs": [],
   "source": [
    "r = requests.get(url, params=payload)"
   ]
  },
  {
   "cell_type": "code",
   "execution_count": 5,
   "metadata": {
    "collapsed": false
   },
   "outputs": [
    {
     "data": {
      "text/plain": [
       "200"
      ]
     },
     "execution_count": 5,
     "metadata": {},
     "output_type": "execute_result"
    }
   ],
   "source": [
    "r.status_code"
   ]
  },
  {
   "cell_type": "code",
   "execution_count": 6,
   "metadata": {
    "collapsed": true
   },
   "outputs": [],
   "source": [
    "soup = BeautifulSoup(r.content)"
   ]
  },
  {
   "cell_type": "code",
   "execution_count": 14,
   "metadata": {
    "collapsed": false
   },
   "outputs": [],
   "source": [
    "B = soup('table')[1].findAll('tr')"
   ]
  },
  {
   "cell_type": "code",
   "execution_count": 34,
   "metadata": {
    "collapsed": false
   },
   "outputs": [
    {
     "data": {
      "text/plain": [
       "[<tr class=\"\">\n",
       "   <th align=\"center\" class=\"tooltip sort_default_asc show_partial_when_sorting\" data-stat=\"team_ID\">Tm</th>\n",
       "   <th align=\"center\" class=\"tooltip\" data-filter=\"1\" data-name=\"Wins\" data-stat=\"W\" tip=\"Wins\">W</th>\n",
       "   <th align=\"center\" class=\"tooltip\" data-filter=\"1\" data-name=\"Losses\" data-stat=\"L\" tip=\"Losses\">L</th>\n",
       "   <th align=\"center\" class=\"tooltip hide_non_quals\" data-filter=\"1\" data-name=\"Win-Loss %\" data-stat=\"win_loss_perc\" tip=\"&lt;strong&gt;Win-Loss Percentage&lt;/strong&gt;&lt;br&gt;W / (W + L)&lt;br&gt;For players, leaders need one decision for every ten team games.&lt;br&gt;For managers, minimum to qualify for leading is 320 games.\"><nobr>W-L%</nobr></th>\n",
       "   <th align=\"center\" class=\"tooltip sort_default_asc\" data-stat=\"games_back\" tip=\"&lt;strong&gt;Games Back of Division/League Leader&lt;/strong&gt;&lt;br&gt;Computed as games over .500 of leader (W-L) minus games over .500 of team divided by two.&lt;br&gt;Typically computed at the end of play for a particular day.&lt;br&gt;Blank for 1st game of DH.\">GB</th>\n",
       "   <th align=\"center\" class=\"tooltip\" data-filter=\"1\" data-name=\"Runs Scored\" data-stat=\"RS\" tip=\"Runs Scored\">RS</th>\n",
       "   <th align=\"center\" class=\"tooltip\" data-filter=\"1\" data-name=\"Runs Allowed\" data-stat=\"RA\" tip=\"Runs Allowed\">RA</th>\n",
       "   <th align=\"center\" class=\"tooltip\" data-filter=\"1\" data-name=\"PythW-L%\" data-stat=\"win_loss_perc_pythag\" tip=\"&lt;strong&gt;Pythagorean Win-Loss Percentage&lt;/strong&gt;&lt;br&gt;This value is an estimate of the teams win-loss percentage&lt;br&gt;based on the runs scored and runs allowed by this team.\"><span class=\"nowrap\">pythW-L%</span></th>\n",
       " </tr>, <tr class=\"\">\n",
       "    <td align=\"left\"><a href=\"/teams/TOR/2015.shtml\">TOR</a></td>\n",
       "    <td align=\"right\">74</td>\n",
       "    <td align=\"right\">57</td>\n",
       "    <td align=\"right\">.565</td>\n",
       "    <td align=\"right\">--</td>\n",
       "    <td align=\"right\">720</td>\n",
       "    <td align=\"right\">529</td>\n",
       "    <td align=\"right\">.637</td>\n",
       " </tr>, <tr class=\"\">\n",
       "    <td align=\"left\"><a href=\"/teams/NYY/2015.shtml\">NYY</a></td>\n",
       "    <td align=\"right\">72</td>\n",
       "    <td align=\"right\">58</td>\n",
       "    <td align=\"right\">.554</td>\n",
       "    <td align=\"right\"> 1.5</td>\n",
       "    <td align=\"right\">630</td>\n",
       "    <td align=\"right\">554</td>\n",
       "    <td align=\"right\">.559</td>\n",
       " </tr>, <tr class=\"\">\n",
       "    <td align=\"left\"><a href=\"/teams/TBR/2015.shtml\">TBR</a></td>\n",
       "    <td align=\"right\">65</td>\n",
       "    <td align=\"right\">66</td>\n",
       "    <td align=\"right\">.496</td>\n",
       "    <td align=\"right\"> 9.0</td>\n",
       "    <td align=\"right\">489</td>\n",
       "    <td align=\"right\">508</td>\n",
       "    <td align=\"right\">.483</td>\n",
       " </tr>, <tr class=\"\">\n",
       "    <td align=\"left\"><a href=\"/teams/BAL/2015.shtml\">BAL</a></td>\n",
       "    <td align=\"right\">63</td>\n",
       "    <td align=\"right\">68</td>\n",
       "    <td align=\"right\">.481</td>\n",
       "    <td align=\"right\">11.0</td>\n",
       "    <td align=\"right\">567</td>\n",
       "    <td align=\"right\">531</td>\n",
       "    <td align=\"right\">.530</td>\n",
       " </tr>, <tr class=\"\">\n",
       "    <td align=\"left\"><a href=\"/teams/BOS/2015.shtml\">BOS</a></td>\n",
       "    <td align=\"right\">61</td>\n",
       "    <td align=\"right\">70</td>\n",
       "    <td align=\"right\">.466</td>\n",
       "    <td align=\"right\">13.0</td>\n",
       "    <td align=\"right\">593</td>\n",
       "    <td align=\"right\">630</td>\n",
       "    <td align=\"right\">.472</td>\n",
       " </tr>]"
      ]
     },
     "execution_count": 34,
     "metadata": {},
     "output_type": "execute_result"
    }
   ],
   "source": [
    "soup('table')[1].findAll('tr')"
   ]
  },
  {
   "cell_type": "code",
   "execution_count": 23,
   "metadata": {
    "collapsed": false
   },
   "outputs": [
    {
     "data": {
      "text/plain": [
       "u'L'"
      ]
     },
     "execution_count": 23,
     "metadata": {},
     "output_type": "execute_result"
    }
   ],
   "source": [
    "B[0].findAll('th')[2].string"
   ]
  },
  {
   "cell_type": "code",
   "execution_count": 26,
   "metadata": {
    "collapsed": false
   },
   "outputs": [
    {
     "name": "stdout",
     "output_type": "stream",
     "text": [
      "TOR\n",
      "74\n",
      "57\n",
      ".565\n",
      "--\n",
      "720\n",
      "529\n",
      ".637\n"
     ]
    }
   ],
   "source": [
    "for i in range(0, len(B[1].findAll('td'))):\n",
    "    print B[1].findAll('td')[i].string"
   ]
  },
  {
   "cell_type": "code",
   "execution_count": 28,
   "metadata": {
    "collapsed": false
   },
   "outputs": [],
   "source": [
    "key = []\n",
    "for i in range(0, len(B[0].findAll('th'))):\n",
    "    key.append(B[0].findAll('th')[i].string)"
   ]
  },
  {
   "cell_type": "code",
   "execution_count": 29,
   "metadata": {
    "collapsed": false
   },
   "outputs": [
    {
     "data": {
      "text/plain": [
       "[u'Tm', u'W', u'L', u'W-L%', u'GB', u'RS', u'RA', u'pythW-L%']"
      ]
     },
     "execution_count": 29,
     "metadata": {},
     "output_type": "execute_result"
    }
   ],
   "source": [
    "key"
   ]
  },
  {
   "cell_type": "code",
   "execution_count": 39,
   "metadata": {
    "collapsed": false
   },
   "outputs": [],
   "source": [
    "ALEstandings = []\n",
    "for element in range(1, len(B)):\n",
    "    tmp = {}\n",
    "    for i in range(0, len(B[element].findAll('td'))):\n",
    "        tmp[key[i]] = B[element].findAll('td')[i].string\n",
    "    ALEstandings.append(tmp)"
   ]
  },
  {
   "cell_type": "code",
   "execution_count": 40,
   "metadata": {
    "collapsed": false
   },
   "outputs": [
    {
     "data": {
      "text/plain": [
       "[{u'GB': u'--',\n",
       "  u'L': u'57',\n",
       "  u'RA': u'529',\n",
       "  u'RS': u'720',\n",
       "  u'Tm': u'TOR',\n",
       "  u'W': u'74',\n",
       "  u'W-L%': u'.565',\n",
       "  u'pythW-L%': u'.637'},\n",
       " {u'GB': u' 1.5',\n",
       "  u'L': u'58',\n",
       "  u'RA': u'554',\n",
       "  u'RS': u'630',\n",
       "  u'Tm': u'NYY',\n",
       "  u'W': u'72',\n",
       "  u'W-L%': u'.554',\n",
       "  u'pythW-L%': u'.559'},\n",
       " {u'GB': u' 9.0',\n",
       "  u'L': u'66',\n",
       "  u'RA': u'508',\n",
       "  u'RS': u'489',\n",
       "  u'Tm': u'TBR',\n",
       "  u'W': u'65',\n",
       "  u'W-L%': u'.496',\n",
       "  u'pythW-L%': u'.483'},\n",
       " {u'GB': u'11.0',\n",
       "  u'L': u'68',\n",
       "  u'RA': u'531',\n",
       "  u'RS': u'567',\n",
       "  u'Tm': u'BAL',\n",
       "  u'W': u'63',\n",
       "  u'W-L%': u'.481',\n",
       "  u'pythW-L%': u'.530'},\n",
       " {u'GB': u'13.0',\n",
       "  u'L': u'70',\n",
       "  u'RA': u'630',\n",
       "  u'RS': u'593',\n",
       "  u'Tm': u'BOS',\n",
       "  u'W': u'61',\n",
       "  u'W-L%': u'.466',\n",
       "  u'pythW-L%': u'.472'}]"
      ]
     },
     "execution_count": 40,
     "metadata": {},
     "output_type": "execute_result"
    }
   ],
   "source": [
    "ALEstandings"
   ]
  },
  {
   "cell_type": "code",
   "execution_count": 41,
   "metadata": {
    "collapsed": true
   },
   "outputs": [],
   "source": [
    "dfALEast = pd.DataFrame(ALEstandings)"
   ]
  },
  {
   "cell_type": "code",
   "execution_count": 44,
   "metadata": {
    "collapsed": false
   },
   "outputs": [],
   "source": [
    "dfALEast.set_index('Tm', inplace=True)\n",
    "dfALEast = dfALEast[['W', 'L', 'GB', 'RS', 'RA', 'W-L%', 'pythW-L%']]"
   ]
  },
  {
   "cell_type": "code",
   "execution_count": 45,
   "metadata": {
    "collapsed": false
   },
   "outputs": [
    {
     "data": {
      "text/html": [
       "<div>\n",
       "<table border=\"1\" class=\"dataframe\">\n",
       "  <thead>\n",
       "    <tr style=\"text-align: right;\">\n",
       "      <th></th>\n",
       "      <th>W</th>\n",
       "      <th>L</th>\n",
       "      <th>GB</th>\n",
       "      <th>RS</th>\n",
       "      <th>RA</th>\n",
       "      <th>W-L%</th>\n",
       "      <th>pythW-L%</th>\n",
       "    </tr>\n",
       "    <tr>\n",
       "      <th>Tm</th>\n",
       "      <th></th>\n",
       "      <th></th>\n",
       "      <th></th>\n",
       "      <th></th>\n",
       "      <th></th>\n",
       "      <th></th>\n",
       "      <th></th>\n",
       "    </tr>\n",
       "  </thead>\n",
       "  <tbody>\n",
       "    <tr>\n",
       "      <th>TOR</th>\n",
       "      <td>74</td>\n",
       "      <td>57</td>\n",
       "      <td>--</td>\n",
       "      <td>720</td>\n",
       "      <td>529</td>\n",
       "      <td>.565</td>\n",
       "      <td>.637</td>\n",
       "    </tr>\n",
       "    <tr>\n",
       "      <th>NYY</th>\n",
       "      <td>72</td>\n",
       "      <td>58</td>\n",
       "      <td>1.5</td>\n",
       "      <td>630</td>\n",
       "      <td>554</td>\n",
       "      <td>.554</td>\n",
       "      <td>.559</td>\n",
       "    </tr>\n",
       "    <tr>\n",
       "      <th>TBR</th>\n",
       "      <td>65</td>\n",
       "      <td>66</td>\n",
       "      <td>9.0</td>\n",
       "      <td>489</td>\n",
       "      <td>508</td>\n",
       "      <td>.496</td>\n",
       "      <td>.483</td>\n",
       "    </tr>\n",
       "    <tr>\n",
       "      <th>BAL</th>\n",
       "      <td>63</td>\n",
       "      <td>68</td>\n",
       "      <td>11.0</td>\n",
       "      <td>567</td>\n",
       "      <td>531</td>\n",
       "      <td>.481</td>\n",
       "      <td>.530</td>\n",
       "    </tr>\n",
       "    <tr>\n",
       "      <th>BOS</th>\n",
       "      <td>61</td>\n",
       "      <td>70</td>\n",
       "      <td>13.0</td>\n",
       "      <td>593</td>\n",
       "      <td>630</td>\n",
       "      <td>.466</td>\n",
       "      <td>.472</td>\n",
       "    </tr>\n",
       "  </tbody>\n",
       "</table>\n",
       "</div>"
      ],
      "text/plain": [
       "      W   L    GB   RS   RA  W-L% pythW-L%\n",
       "Tm                                        \n",
       "TOR  74  57    --  720  529  .565     .637\n",
       "NYY  72  58   1.5  630  554  .554     .559\n",
       "TBR  65  66   9.0  489  508  .496     .483\n",
       "BAL  63  68  11.0  567  531  .481     .530\n",
       "BOS  61  70  13.0  593  630  .466     .472"
      ]
     },
     "execution_count": 45,
     "metadata": {},
     "output_type": "execute_result"
    }
   ],
   "source": [
    "dfALEast"
   ]
  },
  {
   "cell_type": "code",
   "execution_count": null,
   "metadata": {
    "collapsed": true
   },
   "outputs": [],
   "source": []
  }
 ],
 "metadata": {
  "kernelspec": {
   "display_name": "Python 2",
   "language": "python",
   "name": "python2"
  },
  "language_info": {
   "codemirror_mode": {
    "name": "ipython",
    "version": 2
   },
   "file_extension": ".py",
   "mimetype": "text/x-python",
   "name": "python",
   "nbconvert_exporter": "python",
   "pygments_lexer": "ipython2",
   "version": "2.7.10"
  }
 },
 "nbformat": 4,
 "nbformat_minor": 0
}
