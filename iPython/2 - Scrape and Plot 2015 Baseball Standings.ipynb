{
 "cells": [
  {
   "cell_type": "code",
   "execution_count": 27,
   "metadata": {
    "collapsed": false
   },
   "outputs": [],
   "source": [
    "import pandas as pd\n",
    "\n",
    "%matplotlib inline"
   ]
  },
  {
   "cell_type": "code",
   "execution_count": 28,
   "metadata": {
    "collapsed": false
   },
   "outputs": [],
   "source": [
    "dfMaster = pd.read_csv('../data/dayByDayStandings2015.csv')\n",
    "dfMaster.fillna(0, inplace=True)\n",
    "dfMaster['date'] = pd.to_datetime(dfMaster['date'])\n",
    "dfMaster['date'] = dfMaster['date'].apply(pd.datetools.normalize_date)\n",
    "dfMaster.set_index(['division', 'date'], inplace=True)\n",
    "dfMaster = dfMaster[['Tm', 'W', 'L', 'GB', 'RS', 'RA', 'W-L%', 'pythW-L%']]"
   ]
  },
  {
   "cell_type": "code",
   "execution_count": 29,
   "metadata": {
    "collapsed": false
   },
   "outputs": [
    {
     "name": "stdout",
     "output_type": "stream",
     "text": [
      "<class 'pandas.core.frame.DataFrame'>\n",
      "MultiIndex: 5460 entries, (AL East, 2015-04-05 00:00:00) to (NL West, 2015-10-03 00:00:00)\n",
      "Data columns (total 8 columns):\n",
      "Tm          5460 non-null object\n",
      "W           5460 non-null int64\n",
      "L           5460 non-null int64\n",
      "GB          5460 non-null object\n",
      "RS          5460 non-null int64\n",
      "RA          5460 non-null int64\n",
      "W-L%        5460 non-null float64\n",
      "pythW-L%    5460 non-null float64\n",
      "dtypes: float64(2), int64(4), object(2)\n",
      "memory usage: 358.8+ KB\n"
     ]
    }
   ],
   "source": [
    "dfMaster.info()"
   ]
  },
  {
   "cell_type": "code",
   "execution_count": 30,
   "metadata": {
    "collapsed": false
   },
   "outputs": [
    {
     "data": {
      "text/html": [
       "<div>\n",
       "<table border=\"1\" class=\"dataframe\">\n",
       "  <thead>\n",
       "    <tr style=\"text-align: right;\">\n",
       "      <th></th>\n",
       "      <th></th>\n",
       "      <th>Tm</th>\n",
       "      <th>W</th>\n",
       "      <th>L</th>\n",
       "      <th>GB</th>\n",
       "      <th>RS</th>\n",
       "      <th>RA</th>\n",
       "      <th>W-L%</th>\n",
       "      <th>pythW-L%</th>\n",
       "    </tr>\n",
       "    <tr>\n",
       "      <th>division</th>\n",
       "      <th>date</th>\n",
       "      <th></th>\n",
       "      <th></th>\n",
       "      <th></th>\n",
       "      <th></th>\n",
       "      <th></th>\n",
       "      <th></th>\n",
       "      <th></th>\n",
       "      <th></th>\n",
       "    </tr>\n",
       "  </thead>\n",
       "  <tbody>\n",
       "    <tr>\n",
       "      <th rowspan=\"5\" valign=\"top\">NL West</th>\n",
       "      <th>2015-10-03</th>\n",
       "      <td>LAD</td>\n",
       "      <td>91</td>\n",
       "      <td>70</td>\n",
       "      <td>--</td>\n",
       "      <td>661</td>\n",
       "      <td>592</td>\n",
       "      <td>0.565</td>\n",
       "      <td>0.550</td>\n",
       "    </tr>\n",
       "    <tr>\n",
       "      <th>2015-10-03</th>\n",
       "      <td>SFG</td>\n",
       "      <td>84</td>\n",
       "      <td>77</td>\n",
       "      <td>7.0</td>\n",
       "      <td>693</td>\n",
       "      <td>620</td>\n",
       "      <td>0.522</td>\n",
       "      <td>0.551</td>\n",
       "    </tr>\n",
       "    <tr>\n",
       "      <th>2015-10-03</th>\n",
       "      <td>ARI</td>\n",
       "      <td>78</td>\n",
       "      <td>83</td>\n",
       "      <td>13.0</td>\n",
       "      <td>715</td>\n",
       "      <td>710</td>\n",
       "      <td>0.484</td>\n",
       "      <td>0.503</td>\n",
       "    </tr>\n",
       "    <tr>\n",
       "      <th>2015-10-03</th>\n",
       "      <td>SDP</td>\n",
       "      <td>74</td>\n",
       "      <td>87</td>\n",
       "      <td>17.0</td>\n",
       "      <td>647</td>\n",
       "      <td>725</td>\n",
       "      <td>0.460</td>\n",
       "      <td>0.448</td>\n",
       "    </tr>\n",
       "    <tr>\n",
       "      <th>2015-10-03</th>\n",
       "      <td>COL</td>\n",
       "      <td>67</td>\n",
       "      <td>94</td>\n",
       "      <td>24.0</td>\n",
       "      <td>730</td>\n",
       "      <td>841</td>\n",
       "      <td>0.416</td>\n",
       "      <td>0.436</td>\n",
       "    </tr>\n",
       "  </tbody>\n",
       "</table>\n",
       "</div>"
      ],
      "text/plain": [
       "                      Tm   W   L    GB   RS   RA   W-L%  pythW-L%\n",
       "division date                                                    \n",
       "NL West  2015-10-03  LAD  91  70    --  661  592  0.565     0.550\n",
       "         2015-10-03  SFG  84  77   7.0  693  620  0.522     0.551\n",
       "         2015-10-03  ARI  78  83  13.0  715  710  0.484     0.503\n",
       "         2015-10-03  SDP  74  87  17.0  647  725  0.460     0.448\n",
       "         2015-10-03  COL  67  94  24.0  730  841  0.416     0.436"
      ]
     },
     "execution_count": 30,
     "metadata": {},
     "output_type": "execute_result"
    }
   ],
   "source": [
    "dfMaster.tail()"
   ]
  },
  {
   "cell_type": "code",
   "execution_count": 52,
   "metadata": {
    "collapsed": true
   },
   "outputs": [],
   "source": [
    "dfALCentral = dfMaster.ix['AL Central', ['Tm', 'GB']]"
   ]
  },
  {
   "cell_type": "code",
   "execution_count": 53,
   "metadata": {
    "collapsed": false
   },
   "outputs": [],
   "source": [
    "dfALCentral.replace({'--': 0}, axis=1, inplace=True)\n",
    "dfALCentral['GB'] = dfALCentral['GB'].astype(float)"
   ]
  },
  {
   "cell_type": "code",
   "execution_count": 69,
   "metadata": {
    "collapsed": false
   },
   "outputs": [
    {
     "data": {
      "image/png": "[encoded data removed]",
      "text/plain": [
       "<matplotlib.figure.Figure at 0x10ab08710>"
      ]
     },
     "metadata": {},
     "output_type": "display_data"
    }
   ],
   "source": [
    "import matplotlib.pyplot as plt\n",
    "\n",
    "cle = dfALCentral[dfALCentral.Tm == 'CLE']\n",
    "kcr = dfALCentral[dfALCentral.Tm == 'KCR']\n",
    "minn = dfALCentral[dfALCentral.Tm == 'MIN']\n",
    "chw = dfALCentral[dfALCentral.Tm == 'CHW']\n",
    "det = dfALCentral[dfALCentral.Tm == 'DET']\n",
    "plt.figure()\n",
    "plt.plot(cle.index.values, cle['GB'], label='CLE')\n",
    "plt.plot(kcr.index.values, kcr['GB'], label='KCR')\n",
    "plt.plot(minn.index.values, minn['GB'], label='MIN')\n",
    "plt.plot(chw.index.values, chw['GB'], label='CHW')\n",
    "plt.plot(det.index.values, det['GB'], label='DET')\n",
    "plt.legend(loc='best')\n",
    "plt.show()"
   ]
  },
  {
   "cell_type": "code",
   "execution_count": null,
   "metadata": {
    "collapsed": true
   },
   "outputs": [],
   "source": []
  }
 ],
 "metadata": {
  "kernelspec": {
   "display_name": "Python 2",
   "language": "python",
   "name": "python2"
  },
  "language_info": {
   "codemirror_mode": {
    "name": "ipython",
    "version": 2
   },
   "file_extension": ".py",
   "mimetype": "text/x-python",
   "name": "python",
   "nbconvert_exporter": "python",
   "pygments_lexer": "ipython2",
   "version": "2.7.10"
  }
 },
 "nbformat": 4,
 "nbformat_minor": 0
}
