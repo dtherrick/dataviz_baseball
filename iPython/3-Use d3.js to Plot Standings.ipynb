{
 "cells": [
  {
   "cell_type": "code",
   "execution_count": 1,
   "metadata": {
    "collapsed": true,
    "slideshow": {
     "slide_type": "slide"
    }
   },
   "outputs": [],
   "source": [
    "import pandas as pd\n",
    "import matplotlib.pyplot as plt\n",
    "import ipywidgets\n",
    "from IPython.display import display\n",
    "from collections import OrderedDict\n",
    "\n",
    "%matplotlib inline\n",
    "\n",
    "pd.options.mode.chained_assignment = None  # default='warn'"
   ]
  },
  {
   "cell_type": "code",
   "execution_count": 2,
   "metadata": {
    "collapsed": false,
    "slideshow": {
     "slide_type": "slide"
    }
   },
   "outputs": [],
   "source": [
    "dfMaster = pd.read_csv('../data/dayByDayStandings2015.csv')\n",
    "dfMaster.fillna(0, inplace=True)\n",
    "dfMaster['date'] = pd.to_datetime(dfMaster['date'])\n",
    "dfMaster['date'] = dfMaster['date'].apply(pd.datetools.normalize_date)\n",
    "dfMaster.set_index(['division', 'date'], inplace=True)\n",
    "dfMaster = dfMaster[['Tm', 'W', 'L', 'GB', 'RS', 'RA', 'W-L%', 'pythW-L%']]"
   ]
  },
  {
   "cell_type": "code",
   "execution_count": 3,
   "metadata": {
    "collapsed": true,
    "slideshow": {
     "slide_type": "fragment"
    }
   },
   "outputs": [],
   "source": [
    "dropList = OrderedDict(zip(dfMaster.index.levels[0].values, dfMaster.index.levels[0].values))"
   ]
  },
  {
   "cell_type": "code",
   "execution_count": 4,
   "metadata": {
    "collapsed": true,
    "slideshow": {
     "slide_type": "fragment"
    }
   },
   "outputs": [],
   "source": [
    "mlb_colors = {'HOU': '#072854', 'CIN': '#C6011F', 'NYM': '#FB4F14', 'PHI': '#BA0C2F', 'LAD': '#083C6B',\n",
    "              'LAA': '#B71234', 'COL': '#333366', 'TOR': '#003DA5', 'WSN': '#BA122B', 'BAL': '#ED4C09',\n",
    "              'STL': '#C41E3A', 'SDP': '#002147', 'ARI': '#A71930', 'MIL': '#92754C', 'MIN': '#C6011F',\n",
    "              'MIA': '#F9423A', 'BOS': '#C60C30', 'OAK': '#003831', 'PIT': '#FDB829', 'CHC': '#003279',\n",
    "              'CHW': '#000000', 'SFG': '#F2552C', 'DET': '#001742', 'TBR': '#00285D', 'KCR': '#15317E',\n",
    "              'ATL': '#B71234', 'TEX': '#BD1021', 'SEA': '#005C5C', 'CLE': '#003366', 'NYY': '#1C2841'}"
   ]
  },
  {
   "cell_type": "code",
   "execution_count": 5,
   "metadata": {
    "collapsed": false,
    "slideshow": {
     "slide_type": "slide"
    }
   },
   "outputs": [
    {
     "data": {
      "text/plain": [
       "None"
      ]
     },
     "metadata": {},
     "output_type": "display_data"
    }
   ],
   "source": [
    "def plot_division(division):\n",
    "    tmpMaster = dfMaster.ix[division, ['Tm', 'GB']]\n",
    "    tmpMaster.replace({'--': 0}, inplace=True)\n",
    "    tmpMaster['GB'] = tmpMaster['GB'].astype(float)\n",
    "    tmpMaster['GB'] = tmpMaster['GB'] * -1 \n",
    "    tmpMaster.reset_index(inplace=True)\n",
    "    tmpMaster.pivot(index='date', columns='Tm', values='GB').to_csv('data.csv')\n",
    "\n",
    "\n",
    "divW = ipywidgets.Dropdown(options=dropList, )\n",
    "init = divW.value\n",
    "j = ipywidgets.interactive(plot_division, division=divW)\n",
    "display(j)"
   ]
  },
  {
   "cell_type": "code",
   "execution_count": 6,
   "metadata": {
    "collapsed": false,
    "scrolled": true,
    "slideshow": {
     "slide_type": "slide"
    }
   },
   "outputs": [
    {
     "data": {
      "text/html": [
       "<div id=\"d3-example\"></div>\n",
       "<style>\n",
       "body {\n",
       "  font: 10px sans-serif;\n",
       "}\n",
       "\n",
       ".axis path,\n",
       ".axis line {\n",
       "  fill: none;\n",
       "  stroke: #000;\n",
       "  shape-rendering: crispEdges;\n",
       "}\n",
       "\n",
       ".x.axis path {\n",
       "  display: none;\n",
       "}\n",
       "\n",
       ".line {\n",
       "  fill: none;\n",
       "  stroke: steelblue;\n",
       "  stroke-width: 1.5px;\n",
       "}\n",
       "</style>"
      ],
      "text/plain": [
       "<IPython.core.display.HTML object>"
      ]
     },
     "metadata": {},
     "output_type": "display_data"
    }
   ],
   "source": [
    "%%html\n",
    "<div id=\"d3-example\"></div>\n",
    "<style>\n",
    "body {\n",
    "  font: 10px sans-serif;\n",
    "}\n",
    "\n",
    ".axis path,\n",
    ".axis line {\n",
    "  fill: none;\n",
    "  stroke: #000;\n",
    "  shape-rendering: crispEdges;\n",
    "}\n",
    "\n",
    ".x.axis path {\n",
    "  display: none;\n",
    "}\n",
    "\n",
    ".line {\n",
    "  fill: none;\n",
    "  stroke: steelblue;\n",
    "  stroke-width: 1.5px;\n",
    "}\n",
    "</style>"
   ]
  },
  {
   "cell_type": "code",
   "execution_count": 7,
   "metadata": {
    "collapsed": false,
    "slideshow": {
     "slide_type": "fragment"
    }
   },
   "outputs": [
    {
     "data": {
      "application/javascript": [
       "// We load the d3.js library from the Web.\n",
       "require.config({paths: {d3: \"http://d3js.org/d3.v3.min\"}});\n",
       "require([\"d3\"], function(d3) {\n",
       "    var margin = {top: 20, right: 80, bottom: 30, left: 50},\n",
       "        width = 960 - margin.left - margin.right,\n",
       "        height = 500 - margin.top - margin.bottom;\n",
       "\n",
       "    var parseDate = d3.time.format(\"%Y-%m-%d\").parse;\n",
       "\n",
       "    var x = d3.time.scale()\n",
       "        .range([0, width]);\n",
       "\n",
       "    var y = d3.scale.linear()\n",
       "        .range([height, 0]);\n",
       "\n",
       "    var color = d3.scale.category10();\n",
       "\n",
       "    var xAxis = d3.svg.axis()\n",
       "        .scale(x)\n",
       "        .orient(\"bottom\");\n",
       "\n",
       "    var yAxis = d3.svg.axis()\n",
       "        .scale(y)\n",
       "        .orient(\"left\");\n",
       "\n",
       "    var line = d3.svg.line()\n",
       "        .interpolate(\"basis\")\n",
       "        .x(function(d) { return x(d.date); })\n",
       "        .y(function(d) { return y(d.GB); });\n",
       "    \n",
       "    var svg = d3.select(\"#d3-example\").select(\"svg\")\n",
       "        if (svg.empty()) {\n",
       "            svg = d3.select(\"#d3-example\").append(\"svg\")\n",
       "                        .attr(\"width\", width + margin.left + margin.right)\n",
       "                        .attr(\"height\", height + margin.top + margin.bottom)\n",
       "                      .append(\"g\")\n",
       "                        .attr(\"transform\", \"translate(\" + margin.left + \",\" + margin.top + \")\")\n",
       "                        .attr(\"elasticY\", true);\n",
       "        }\n",
       "    \n",
       "\n",
       "    d3.csv(\"data.csv\", function(error, data) {\n",
       "      if (error) throw error;\n",
       "\n",
       "      color.domain(d3.keys(data[0]).filter(function(key) { return key !== \"date\"; }));\n",
       "\n",
       "      data.forEach(function(d) {\n",
       "        d.date = parseDate(d.date);\n",
       "      });\n",
       "\n",
       "      var teams = color.domain().map(function(name) {\n",
       "        return {\n",
       "          name: name,\n",
       "          values: data.map(function(d) {\n",
       "            return {date: d.date, GB: +d[name]};\n",
       "          })\n",
       "        };\n",
       "      });\n",
       "\n",
       "      x.domain(d3.extent(data, function(d) { return d.date; }));\n",
       "\n",
       "      y.domain([\n",
       "        d3.min(teams, function(c) { return d3.min(c.values, function(v) { return v.GB; }); }),\n",
       "        d3.max(teams, function(c) { return d3.max(c.values, function(v) { return v.GB; }); })\n",
       "      ]);\n",
       "\n",
       "      svg.append(\"g\")\n",
       "          .attr(\"class\", \"x axis\")\n",
       "          .attr(\"transform\", \"translate(0,\" + height + \")\")\n",
       "          .call(xAxis);\n",
       "\n",
       "      svg.append(\"g\")\n",
       "          .attr(\"class\", \"y axis\")\n",
       "          .call(yAxis)\n",
       "        .append(\"text\")\n",
       "          .attr(\"transform\", \"rotate(-90)\")\n",
       "          .attr(\"y\", -35)\n",
       "          .attr(\"dy\", \".71em\")\n",
       "          .style(\"text-anchor\", \"end\")\n",
       "          .text(\"Games Behind\");\n",
       "\n",
       "      var team = svg.selectAll(\".team\")\n",
       "          .data(teams)\n",
       "        .enter().append(\"g\")\n",
       "          .attr(\"class\", \"team\");\n",
       "\n",
       "      team.append(\"path\")\n",
       "          .attr(\"class\", \"line\")\n",
       "          .attr(\"d\", function(d) { return line(d.values); })\n",
       "          .style(\"stroke\", function(d) { return color(d.name); });\n",
       "\n",
       "      team.append(\"text\")\n",
       "          .datum(function(d) { return {name: d.name, value: d.values[d.values.length - 1]}; })\n",
       "          .attr(\"transform\", function(d) { return \"translate(\" + x(d.value.date) + \",\" + y(d.value.GB) + \")\"; })\n",
       "          .attr(\"x\", 3)\n",
       "          .attr(\"dy\", \".35em\")\n",
       "          .text(function(d) { return d.name; });\n",
       " \n",
       "    });\n",
       "});"
      ],
      "text/plain": [
       "<IPython.core.display.Javascript object>"
      ]
     },
     "metadata": {},
     "output_type": "display_data"
    }
   ],
   "source": [
    "%%javascript\n",
    "// We load the d3.js library from the Web.\n",
    "require.config({paths: {d3: \"http://d3js.org/d3.v3.min\"}});\n",
    "require([\"d3\"], function(d3) {\n",
    "    var margin = {top: 20, right: 80, bottom: 30, left: 50},\n",
    "        width = 960 - margin.left - margin.right,\n",
    "        height = 500 - margin.top - margin.bottom;\n",
    "\n",
    "    var parseDate = d3.time.format(\"%Y-%m-%d\").parse;\n",
    "\n",
    "    var x = d3.time.scale()\n",
    "        .range([0, width]);\n",
    "\n",
    "    var y = d3.scale.linear()\n",
    "        .range([height, 0]);\n",
    "\n",
    "    var color = d3.scale.category10();\n",
    "\n",
    "    var xAxis = d3.svg.axis()\n",
    "        .scale(x)\n",
    "        .orient(\"bottom\");\n",
    "\n",
    "    var yAxis = d3.svg.axis()\n",
    "        .scale(y)\n",
    "        .orient(\"left\");\n",
    "\n",
    "    var line = d3.svg.line()\n",
    "        .interpolate(\"basis\")\n",
    "        .x(function(d) { return x(d.date); })\n",
    "        .y(function(d) { return y(d.GB); });\n",
    "    \n",
    "    var svg = d3.select(\"#d3-example\").select(\"svg\")\n",
    "        if (svg.empty()) {\n",
    "            svg = d3.select(\"#d3-example\").append(\"svg\")\n",
    "                        .attr(\"width\", width + margin.left + margin.right)\n",
    "                        .attr(\"height\", height + margin.top + margin.bottom)\n",
    "                      .append(\"g\")\n",
    "                        .attr(\"transform\", \"translate(\" + margin.left + \",\" + margin.top + \")\")\n",
    "                        .attr(\"elasticY\", true);\n",
    "        }\n",
    "    \n",
    "\n",
    "    d3.csv(\"data.csv\", function(error, data) {\n",
    "      if (error) throw error;\n",
    "\n",
    "      color.domain(d3.keys(data[0]).filter(function(key) { return key !== \"date\"; }));\n",
    "\n",
    "      data.forEach(function(d) {\n",
    "        d.date = parseDate(d.date);\n",
    "      });\n",
    "\n",
    "      var teams = color.domain().map(function(name) {\n",
    "        return {\n",
    "          name: name,\n",
    "          values: data.map(function(d) {\n",
    "            return {date: d.date, GB: +d[name]};\n",
    "          })\n",
    "        };\n",
    "      });\n",
    "\n",
    "      x.domain(d3.extent(data, function(d) { return d.date; }));\n",
    "\n",
    "      y.domain([\n",
    "        d3.min(teams, function(c) { return d3.min(c.values, function(v) { return v.GB; }); }),\n",
    "        d3.max(teams, function(c) { return d3.max(c.values, function(v) { return v.GB; }); })\n",
    "      ]);\n",
    "\n",
    "      svg.append(\"g\")\n",
    "          .attr(\"class\", \"x axis\")\n",
    "          .attr(\"transform\", \"translate(0,\" + height + \")\")\n",
    "          .call(xAxis);\n",
    "\n",
    "      svg.append(\"g\")\n",
    "          .attr(\"class\", \"y axis\")\n",
    "          .call(yAxis)\n",
    "        .append(\"text\")\n",
    "          .attr(\"transform\", \"rotate(-90)\")\n",
    "          .attr(\"y\", -35)\n",
    "          .attr(\"dy\", \".71em\")\n",
    "          .style(\"text-anchor\", \"end\")\n",
    "          .text(\"Games Behind\");\n",
    "\n",
    "      var team = svg.selectAll(\".team\")\n",
    "          .data(teams)\n",
    "        .enter().append(\"g\")\n",
    "          .attr(\"class\", \"team\");\n",
    "\n",
    "      team.append(\"path\")\n",
    "          .attr(\"class\", \"line\")\n",
    "          .attr(\"d\", function(d) { return line(d.values); })\n",
    "          .style(\"stroke\", function(d) { return color(d.name); });\n",
    "\n",
    "      team.append(\"text\")\n",
    "          .datum(function(d) { return {name: d.name, value: d.values[d.values.length - 1]}; })\n",
    "          .attr(\"transform\", function(d) { return \"translate(\" + x(d.value.date) + \",\" + y(d.value.GB) + \")\"; })\n",
    "          .attr(\"x\", 3)\n",
    "          .attr(\"dy\", \".35em\")\n",
    "          .text(function(d) { return d.name; });\n",
    " \n",
    "    });\n",
    "});"
   ]
  },
  {
   "cell_type": "code",
   "execution_count": null,
   "metadata": {
    "collapsed": true
   },
   "outputs": [],
   "source": []
  }
 ],
 "metadata": {
  "celltoolbar": "Slideshow",
  "kernelspec": {
   "display_name": "Python 2",
   "language": "python",
   "name": "python2"
  },
  "language_info": {
   "codemirror_mode": {
    "name": "ipython",
    "version": 2
   },
   "file_extension": ".py",
   "mimetype": "text/x-python",
   "name": "python",
   "nbconvert_exporter": "python",
   "pygments_lexer": "ipython2",
   "version": "2.7.10"
  }
 },
 "nbformat": 4,
 "nbformat_minor": 0
}
