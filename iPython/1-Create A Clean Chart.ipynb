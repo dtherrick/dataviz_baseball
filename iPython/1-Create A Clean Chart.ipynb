{
 "cells": [
  {
   "cell_type": "markdown",
   "metadata": {
    "slideshow": {
     "slide_type": "slide"
    }
   },
   "source": [
    "# 1. Creating a Clean Chart"
   ]
  },
  {
   "cell_type": "markdown",
   "metadata": {
    "slideshow": {
     "slide_type": "slide"
    }
   },
   "source": [
    "### Begin by importing the packages we'll use."
   ]
  },
  {
   "cell_type": "code",
   "execution_count": 1,
   "metadata": {
    "collapsed": false,
    "slideshow": {
     "slide_type": "fragment"
    }
   },
   "outputs": [],
   "source": [
    "import os\n",
    "import numpy as np\n",
    "import urllib\n",
    "import statsmodels.api as sm\n",
    "import pandas as pd\n",
    "import matplotlib.pyplot as plt\n",
    "import pylab as pyl\n",
    "from IPython.display import Image, YouTubeVideo, IFrame\n",
    "\n",
    "# This is an example of an iPython magic command.\n",
    "# If we don't use this, then we can't see our matplotlib plots in our notebook\n",
    "%matplotlib inline"
   ]
  },
  {
   "cell_type": "markdown",
   "metadata": {
    "slideshow": {
     "slide_type": "slide"
    }
   },
   "source": [
    "> __Data looks better naked__"
   ]
  },
  {
   "cell_type": "markdown",
   "metadata": {
    "slideshow": {
     "slide_type": "fragment"
    }
   },
   "source": [
    "What in the world does that mean?\n",
    "\n",
    "* Slide and data presentation often refers back to Edward Tufte and his book __\"The Visual Display of Quantitative Information.\"__\n",
    "   \n",
    "* Define naked data this way:\n",
    "\n",
    ">__Data-ink is the non-erasable core of the graphic, the non-redundant ink arranged in response to variation in the numbers represented__\n",
    "\n",
    "* If we remove all non-data-ink and redundant data-ink, within reason, we should be left with an informative graphic that reflects sound graphical design\n"
   ]
  },
  {
   "cell_type": "markdown",
   "metadata": {
    "slideshow": {
     "slide_type": "slide"
    }
   },
   "source": [
    "> __“Perfection is achieved not when there is nothing more to add, but when there is nothing left to take away”__\n",
    "\n",
    "– *Antoine de Saint-Exupery*"
   ]
  },
  {
   "cell_type": "code",
   "execution_count": 2,
   "metadata": {
    "collapsed": false,
    "slideshow": {
     "slide_type": "slide"
    }
   },
   "outputs": [],
   "source": [
    "# Load our data first\n",
    "dfLetterFrequency = pd.read_csv('../data/letter_frequency.csv', header=None, index_col=0, names=['Frequency'])"
   ]
  },
  {
   "cell_type": "code",
   "execution_count": 5,
   "metadata": {
    "collapsed": false
   },
   "outputs": [
    {
     "data": {
      "text/plain": [
       "<matplotlib.axes._subplots.AxesSubplot at 0x11165b350>"
      ]
     },
     "execution_count": 5,
     "metadata": {},
     "output_type": "execute_result"
    },
    {
     "data": {
      "image/png": "[encoded data removed]",
      "text/plain": [
       "<matplotlib.figure.Figure at 0x10d49cfd0>"
      ]
     },
     "metadata": {},
     "output_type": "display_data"
    }
   ],
   "source": [
    "dfLetterFrequency.plot(kind='bar', figsize=(10,6))"
   ]
  },
  {
   "cell_type": "markdown",
   "metadata": {
    "slideshow": {
     "slide_type": "slide"
    }
   },
   "source": [
    "## Extending Matplotlib\n",
    "\n",
    "* We will follow along with a great tutorial by Randal Olson.\n",
    "   * His post is here: [How to make beautiful data visualizations in Python with matplotlib](http://www.randalolson.com/2014/06/28/how-to-make-beautiful-data-visualizations-in-python-with-matplotlib/)\n",
    "   \n",
    "####The Basics\n",
    "* We'll load our packages\n",
    "* Change the default color scheme used by matplotlib.\n",
    "   * As we saw yesterday, it's pretty saturated, bright, and, dare we say, ugly.\n",
    "   * Randal prefers the Tableau color map and I agree. It's a better look than the alternatives.\n",
    "       * [Tableau](http://www.tableau.com) is a visualization tool that rocks. It's paid software though - about $1,000 / seat."
   ]
  },
  {
   "cell_type": "markdown",
   "metadata": {
    "slideshow": {
     "slide_type": "slide"
    }
   },
   "source": [
    "###We will start by reproducing this plot:"
   ]
  },
  {
   "cell_type": "code",
   "execution_count": null,
   "metadata": {
    "collapsed": false,
    "slideshow": {
     "slide_type": "fragment"
    }
   },
   "outputs": [],
   "source": [
    "IFrame(\"http://www.randalolson.com/wp-content/uploads/\"\n",
    "       \"percent-bachelors-degrees-women-usa.png\",\n",
    "       1000, 1000)"
   ]
  },
  {
   "cell_type": "code",
   "execution_count": null,
   "metadata": {
    "collapsed": false,
    "slideshow": {
     "slide_type": "slide"
    }
   },
   "outputs": [],
   "source": [
    "# Read the data into a pandas DataFrame.  \n",
    "gender_degree_data = pd.read_csv(\"http://www.randalolson.com/wp-content/uploads/percent-bachelors-degrees-women-usa.csv\")  \n",
    "  \n",
    "# These are the \"Tableau 20\" colors as RGB.  \n",
    "tableau20 = [(31, 119, 180), (174, 199, 232), (255, 127, 14), (255, 187, 120),  \n",
    "             (44, 160, 44), (152, 223, 138), (214, 39, 40), (255, 152, 150),  \n",
    "             (148, 103, 189), (197, 176, 213), (140, 86, 75), (196, 156, 148),  \n",
    "             (227, 119, 194), (247, 182, 210), (127, 127, 127), (199, 199, 199),  \n",
    "             (188, 189, 34), (219, 219, 141), (23, 190, 207), (158, 218, 229)]  \n",
    "  \n",
    "# Scale the RGB values to the [0, 1] range, which is the format matplotlib accepts.  \n",
    "for i in range(len(tableau20)):  \n",
    "    r, g, b = tableau20[i]  \n",
    "    tableau20[i] = (r / 255., g / 255., b / 255.)  \n",
    "  \n",
    "# You typically want your plot to be ~1.33x wider than tall. This plot is a rare  \n",
    "# exception because of the number of lines being plotted on it.  \n",
    "# Common sizes: (10, 7.5) and (12, 9)  \n",
    "pyl.figure(figsize=(12, 14))  \n",
    "  \n",
    "# Remove the plot frame lines. They are unnecessary chartjunk.  \n",
    "ax = pyl.subplot(111)  \n",
    "ax.spines[\"top\"].set_visible(False)  \n",
    "ax.spines[\"bottom\"].set_visible(False)  \n",
    "ax.spines[\"right\"].set_visible(False)  \n",
    "ax.spines[\"left\"].set_visible(False)  \n",
    "  \n",
    "# Ensure that the axis ticks only show up on the bottom and left of the plot.  \n",
    "# Ticks on the right and top of the plot are generally unnecessary chartjunk.  \n",
    "ax.get_xaxis().tick_bottom()  \n",
    "ax.get_yaxis().tick_left()  \n",
    "  \n",
    "# Limit the range of the plot to only where the data is.  \n",
    "# Avoid unnecessary whitespace.  \n",
    "pyl.ylim(0, 90)  \n",
    "pyl.xlim(1968, 2014)  \n",
    "  \n",
    "# Make sure your axis ticks are large enough to be easily read.  \n",
    "# You don't want your viewers squinting to read your plot.  \n",
    "pyl.yticks(range(0, 91, 10), [str(x) + \"%\" for x in range(0, 91, 10)], fontsize=14)  \n",
    "pyl.xticks(fontsize=14)  \n",
    "  \n",
    "# Provide tick lines across the plot to help your viewers trace along  \n",
    "# the axis ticks. Make sure that the lines are light and small so they  \n",
    "# don't obscure the primary data lines.  \n",
    "for y in range(10, 91, 10):  \n",
    "    plt.plot(range(1968, 2012), [y] * len(range(1968, 2012)), \"--\", lw=0.5, color=\"black\", alpha=0.3)\n",
    "  \n",
    "# Remove the tick marks; they are unnecessary with the tick lines we just plotted.  \n",
    "plt.tick_params(axis=\"both\", which=\"both\", bottom=\"off\", top=\"off\",  \n",
    "                labelbottom=\"on\", left=\"off\", right=\"off\", labelleft=\"on\")  \n",
    "  \n",
    "# Now that the plot is prepared, it's time to actually plot the data!  \n",
    "# Note that I plotted the majors in order of the highest % in the final year.  \n",
    "majors = ['Health Professions', 'Public Administration', 'Education', 'Psychology',  \n",
    "          'Foreign Languages', 'English', 'Communications\\nand Journalism',  \n",
    "          'Art and Performance', 'Biology', 'Agriculture',  \n",
    "          'Social Sciences and History', 'Business', 'Math and Statistics',  \n",
    "          'Architecture', 'Physical Sciences', 'Computer Science',  \n",
    "          'Engineering']  \n",
    "  \n",
    "for rank, column in enumerate(majors):  \n",
    "    # Plot each line separately with its own color, using the Tableau 20  \n",
    "    # color set in order.  \n",
    "    plt.plot(gender_degree_data.Year.values,  \n",
    "            gender_degree_data[column.replace(\"\\n\", \" \")].values,  \n",
    "            lw=2.5, color=tableau20[rank])  \n",
    "      \n",
    "    # Add a text label to the right end of every line. Most of the code below  \n",
    "    # is adding specific offsets y position because some labels overlapped.  \n",
    "    pyl.y_pos = gender_degree_data[column.replace(\"\\n\", \" \")].values[-1] - 0.5  \n",
    "    if column == \"Foreign Languages\":  \n",
    "        pyl.y_pos += 0.5  \n",
    "    elif column == \"English\":  \n",
    "        pyl.y_pos -= 0.5  \n",
    "    elif column == \"Communications\\nand Journalism\":  \n",
    "        pyl.y_pos += 0.75  \n",
    "    elif column == \"Art and Performance\":  \n",
    "        pyl.y_pos -= 0.25  \n",
    "    elif column == \"Agriculture\":  \n",
    "        pyl.y_pos += 1.25  \n",
    "    elif column == \"Social Sciences and History\":  \n",
    "        pyl.y_pos += 0.25  \n",
    "    elif column == \"Business\":  \n",
    "        pyl.y_pos -= 0.75  \n",
    "    elif column == \"Math and Statistics\":  \n",
    "        pyl.y_pos += 0.75  \n",
    "    elif column == \"Architecture\":  \n",
    "        pyl.y_pos -= 0.75  \n",
    "    elif column == \"Computer Science\":  \n",
    "        pyl.y_pos += 0.75  \n",
    "    elif column == \"Engineering\":  \n",
    "        pyl.y_pos -= 0.25  \n",
    "      \n",
    "    # Again, make sure that all labels are large enough to be easily read  \n",
    "    # by the viewer.  \n",
    "    pyl.text(2011.5, pyl.y_pos, column, fontsize=14, color=tableau20[rank])  \n",
    "      \n",
    "# matplotlib's title() call centers the title on the plot, but not the graph,  \n",
    "# so I used the text() call to customize where the title goes.  \n",
    "  \n",
    "# Make the title big enough so it spans the entire plot, but don't make it  \n",
    "# so big that it requires two lines to show.  \n",
    "  \n",
    "# Note that if the title is descriptive enough, it is unnecessary to include  \n",
    "# axis labels; they are self-evident, in this plot's case.  \n",
    "pyl.text(1995, 93, \"Percentage of Bachelor's degrees conferred to women in the U.S.A.\"  \n",
    "       \", by major (1970-2012)\", fontsize=17, ha=\"center\")  \n",
    "  \n",
    "# Always include your data source(s) and copyright notice! And for your  \n",
    "# data sources, tell your viewers exactly where the data came from,  \n",
    "# preferably with a direct link to the data. Just telling your viewers  \n",
    "# that you used data from the \"U.S. Census Bureau\" is completely useless:  \n",
    "# the U.S. Census Bureau provides all kinds of data, so how are your  \n",
    "# viewers supposed to know which data set you used?  \n",
    "pyl.text(1966, -8, \"Data source: nces.ed.gov/programs/digest/2013menu_tables.asp\"  \n",
    "       \"\\nAuthor: Randy Olson (randalolson.com / @randal_olson)\"  \n",
    "       \"\\nNote: Some majors are missing because the historical data \"  \n",
    "       \"is not available for them\", fontsize=10)  \n",
    "  \n",
    "# Finally, save the figure as a PNG.  \n",
    "# You can also save it as a PDF, JPEG, etc.  \n",
    "# Just change the file extension in this call.  \n",
    "# bbox_inches=\"tight\" removes all the extra whitespace on the edges of your plot.  \n",
    "#savefig(\"percent-bachelors-degrees-women-usa.png\", bbox_inches=\"tight\");\n",
    "dataviz = plt.gcf()"
   ]
  }
 ],
 "metadata": {
  "celltoolbar": "Slideshow",
  "kernelspec": {
   "display_name": "Python 2",
   "language": "python",
   "name": "python2"
  },
  "language_info": {
   "codemirror_mode": {
    "name": "ipython",
    "version": 2
   },
   "file_extension": ".py",
   "mimetype": "text/x-python",
   "name": "python",
   "nbconvert_exporter": "python",
   "pygments_lexer": "ipython2",
   "version": "2.7.10"
  }
 },
 "nbformat": 4,
 "nbformat_minor": 0
}
